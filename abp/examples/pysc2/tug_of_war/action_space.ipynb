{
 "cells": [
  {
   "cell_type": "code",
   "execution_count": 1,
   "metadata": {},
   "outputs": [],
   "source": [
    "import torch\n",
    "import numpy as np\n",
    "from copy import copy, deepcopy\n",
    "from tqdm import tqdm"
   ]
  },
  {
   "cell_type": "markdown",
   "metadata": {},
   "source": [
    "## Tug of War 2 lanes No FIFO"
   ]
  },
  {
   "cell_type": "code",
   "execution_count": null,
   "metadata": {},
   "outputs": [],
   "source": [
    "maker_cost = {\n",
    "    'Marine T' : 50,\n",
    "    'Baneling T' : 75,\n",
    "    'Immortal T' : 200,\n",
    "    'Marine B' : 50,\n",
    "    'Baneling B' : 75,\n",
    "    'Immortal B' : 200,\n",
    "}\n",
    "def get_big_A_spend_all(miner, \n",
    "              all_A_vectors = None, vector = None, move = 0):\n",
    "    if all_A_vectors is None:\n",
    "        all_A_vectors = list()\n",
    "    if vector is None:\n",
    "        vector = (0,0,0,0,0,0)\n",
    "    if miner == 0:\n",
    "        all_A_vectors.append(vector)\n",
    "        return list(all_A_vectors)\n",
    "    \n",
    "    next_vector = copy(vector)\n",
    "#     if miner < 50:\n",
    "#         all_A_vectors.append(vector)\n",
    "#         return list(all_A_vectors)\n",
    "        \n",
    "#     next_vector = copy(vector)\n",
    "#     get_big_A_spend_all(miner - miner, all_A_vectors, next_vector)\n",
    "    if miner >= maker_cost['Marine T']:\n",
    "        if move <= 0:\n",
    "            next_vector = (vector[0] + 1, vector[1],vector[2],\n",
    "                            vector[3], vector[4], vector[5])\n",
    "            get_big_A_spend_all(miner - maker_cost['Marine T'], all_A_vectors, next_vector, 0)\n",
    "        if move <= 1:\n",
    "            next_vector = (vector[0], vector[1],vector[2],\n",
    "                            vector[3] + 1, vector[4], vector[5])\n",
    "            get_big_A_spend_all(miner - maker_cost['Marine B'], all_A_vectors, next_vector, 1)\n",
    "            \n",
    "        if miner >= maker_cost['Baneling T']:\n",
    "            if move <= 2:\n",
    "                next_vector = (vector[0], vector[1] + 1,vector[2],\n",
    "                                vector[3], vector[4], vector[5])\n",
    "                get_big_A_spend_all(miner - maker_cost['Baneling T'], all_A_vectors, next_vector, 2)\n",
    "            if move <= 3:\n",
    "                next_vector = (vector[0], vector[1],vector[2],\n",
    "                                vector[3], vector[4] + 1, vector[5])\n",
    "                get_big_A_spend_all(miner - maker_cost['Baneling B'], all_A_vectors, next_vector, 3)\n",
    "                \n",
    "            if miner >= maker_cost['Immortal T']:\n",
    "                if move <= 4:\n",
    "                    next_vector = (vector[0], vector[1],vector[2] + 1,\n",
    "                                    vector[3], vector[4], vector[5])\n",
    "                    get_big_A_spend_all(miner - maker_cost['Immortal T'], all_A_vectors, next_vector, 4)\n",
    "                if move <= 5:\n",
    "                    next_vector = (vector[0], vector[1],vector[2],\n",
    "                                    vector[3], vector[4], vector[5] + 1)\n",
    "                    get_big_A_spend_all(miner - maker_cost['Immortal B'], all_A_vectors, next_vector, 5)\n",
    "\n",
    "    return list(all_A_vectors)"
   ]
  },
  {
   "cell_type": "code",
   "execution_count": null,
   "metadata": {},
   "outputs": [],
   "source": [
    "# action_space = get_big_A_spend_all(225)\n",
    "# print(len(action_space))\n",
    "# for action in action_space:\n",
    "#     print(action)\n",
    "\n",
    "all_actions = []\n",
    "mineral = 0\n",
    "maker_cost_np = np.zeros(len(maker_cost))\n",
    "for i, mc in enumerate(maker_cost.values()):\n",
    "    maker_cost_np[i] = mc\n",
    "for i in tqdm(range(1500 // 25 + 1)):\n",
    "    all_actions.extend(get_big_A_spend_all(mineral))\n",
    "    mineral += 25\n",
    "    if mineral > 1500:\n",
    "        break\n"
   ]
  },
  {
   "cell_type": "code",
   "execution_count": null,
   "metadata": {},
   "outputs": [],
   "source": [
    "all_actions = np.array(all_actions)\n",
    "pylon_action = np.zeros((all_actions.shape[0], 1))\n",
    "print(all_actions.shape)\n",
    "print(pylon_action.shape)\n",
    "all_actions = np.hstack((all_actions, pylon_action))\n",
    "print(all_actions.shape)\n",
    "print(all_actions)\n",
    "# print(all_actions[all_actions[:,5] == 7])"
   ]
  },
  {
   "cell_type": "code",
   "execution_count": null,
   "metadata": {},
   "outputs": [],
   "source": [
    "key_mineral = 50\n",
    "action_dict = {0: 1, 25: 1}\n",
    "for i, a in tqdm(enumerate(np.array(all_actions[1:]))):\n",
    "#     if key_mineral < 500:\n",
    "#         print(np.sum(maker_cost_np * a))\n",
    "    if np.sum(maker_cost_np * a[:-1]) != key_mineral:\n",
    "        action_dict[key_mineral] = i + 1\n",
    "        key_mineral += 25\n",
    "action_dict[key_mineral] = i + 2\n",
    "print(action_dict)\n",
    "action_1500_dict = {}\n",
    "all_actions_torch = torch.Tensor(all_actions)\n",
    "action_1500_dict['actions'] = all_actions_torch\n",
    "action_1500_dict['mineral'] = action_dict\n",
    "\n",
    "torch.save(action_1500_dict, 'action_1500_dict_2L.pt')"
   ]
  },
  {
   "cell_type": "markdown",
   "metadata": {},
   "source": [
    "## Tug of War 2 lanes No FIFO (One lane one time)"
   ]
  },
  {
   "cell_type": "code",
   "execution_count": null,
   "metadata": {},
   "outputs": [],
   "source": [
    "maker_cost = {\n",
    "    'Marine' : 50,\n",
    "    'Baneling' : 75,\n",
    "    'Immortal' : 200,\n",
    "#     'Plyon' : 300\n",
    "}\n",
    "def get_big_A_spend_all_olot(miner, \n",
    "              all_A_vectors = None, vector = None, move = 0, pylons = 0):\n",
    "    if all_A_vectors is None:\n",
    "        all_A_vectors = list()\n",
    "    if vector is None:\n",
    "        vector = (0,0,0,0)\n",
    "    if miner == 0:\n",
    "        all_A_vectors.append(vector) \n",
    "        return list(all_A_vectors)\n",
    "    pylon_cost = 300 + pylons * 100\n",
    "    next_vector = copy(vector)\n",
    "#     if miner < 50:\n",
    "#         all_A_vectors.append(vector)\n",
    "#         return list(all_A_vectors)\n",
    "        \n",
    "#     next_vector = copy(vector)\n",
    "#     get_big_A_spend_all_olot(miner - miner, all_A_vectors, next_vector)\n",
    "    if miner >= maker_cost['Marine']:\n",
    "        if move <= 0:\n",
    "            next_vector = (vector[0] + 1, vector[1],vector[2], vector[3])\n",
    "            get_big_A_spend_all_olot(miner - maker_cost['Marine'], all_A_vectors, next_vector, 0,\n",
    "                                     pylons = pylons)\n",
    "            \n",
    "        if miner >= maker_cost['Baneling']:\n",
    "            if move <= 1:\n",
    "                next_vector = (vector[0], vector[1] + 1,vector[2], vector[3])\n",
    "                get_big_A_spend_all_olot(miner - maker_cost['Baneling'], all_A_vectors, next_vector, 1,\n",
    "                                         pylons = pylons)\n",
    "                \n",
    "            if miner >= maker_cost['Immortal']:\n",
    "                if move <= 2:\n",
    "                    next_vector = (vector[0], vector[1],vector[2] + 1, vector[3])\n",
    "                    get_big_A_spend_all_olot(miner - maker_cost['Immortal'], all_A_vectors, next_vector, 2,\n",
    "                                             pylons = pylons)\n",
    "                if miner >= pylon_cost and pylons < 3:\n",
    "                    if move <= 3:\n",
    "                        next_vector = (vector[0], vector[1], vector[2], vector[3] + 1)\n",
    "                        get_big_A_spend_all_olot(miner - pylon_cost, all_A_vectors, next_vector, 3, \n",
    "                                                 pylons = pylons + 1)\n",
    "\n",
    "    return list(all_A_vectors)"
   ]
  },
  {
   "cell_type": "code",
   "execution_count": null,
   "metadata": {},
   "outputs": [],
   "source": [
    "# action_space = get_big_A_spend_all_olot(1500)\n",
    "# print(len(action_space))\n",
    "# for action in action_space:\n",
    "#     print(action)\n",
    "maker_cost_np = np.zeros(len(maker_cost))\n",
    "for i, mc in enumerate(maker_cost.values()):\n",
    "    maker_cost_np[i] = mc\n",
    "    \n",
    "all_actions = {}\n",
    "for i in range(4):\n",
    "    actions = []\n",
    "    mineral = 0\n",
    "    for _ in tqdm(range(1500 // 25 + 1)):\n",
    "        actions.extend(get_big_A_spend_all_olot(mineral, pylons = i))\n",
    "        mineral += 25\n",
    "        if mineral > 1500:\n",
    "            break\n",
    "    \n",
    "    print(len(actions))\n",
    "    all_actions[i] = np.array(actions)"
   ]
  },
  {
   "cell_type": "code",
   "execution_count": null,
   "metadata": {},
   "outputs": [],
   "source": [
    "for i in range(4):\n",
    "    print(i)\n",
    "    print(all_actions[i][-20:])"
   ]
  },
  {
   "cell_type": "code",
   "execution_count": null,
   "metadata": {},
   "outputs": [],
   "source": [
    "pylon_cost = {\n",
    "    0:{\n",
    "        0: 0,\n",
    "        1: 300,\n",
    "        2: 700,\n",
    "        3: 1200\n",
    "    },\n",
    "    1:{\n",
    "        0: 0,\n",
    "        1: 400,\n",
    "        2: 900\n",
    "    },\n",
    "    2:{\n",
    "        0: 0,\n",
    "        1: 500\n",
    "    },\n",
    "    3: {\n",
    "        0: 0,\n",
    "    }\n",
    "}\n",
    "all_action_dict = {}\n",
    "for j in range(4):\n",
    "    action_pylon = all_actions[j]\n",
    "    all_action_dict[j] = {0: 1, 25: 1}\n",
    "    key_mineral = 50\n",
    "    for i, a in tqdm(enumerate(np.array(action_pylon[1:]))):\n",
    "        pylon_c = pylon_cost[j][a[-1]]\n",
    "#         print(pylon_c)\n",
    "#         print(a)\n",
    "#         if key_mineral < 500:\n",
    "#         print(np.sum(maker_cost_np * a[:-1]) + pylon_c)\n",
    "        if np.sum(maker_cost_np * a[:-1]) + pylon_c != key_mineral:\n",
    "            all_action_dict[j][key_mineral] = i + 1\n",
    "            key_mineral += 25\n",
    "            \n",
    "    all_action_dict[j][key_mineral] = i + 2\n",
    "    print(all_action_dict)\n",
    "    \n",
    "action_1500_dict = {}\n",
    "action_1500_dict['actions'] = all_actions\n",
    "action_1500_dict['mineral'] = all_action_dict\n",
    "\n",
    "torch.save(action_1500_dict, 'action_1500_dict_2L.pt')"
   ]
  },
  {
   "cell_type": "code",
   "execution_count": null,
   "metadata": {},
   "outputs": [],
   "source": [
    "print(action_1500_dict)"
   ]
  },
  {
   "cell_type": "code",
   "execution_count": null,
   "metadata": {},
   "outputs": [],
   "source": [
    "a = np.array([1,2,3])\n"
   ]
  },
  {
   "cell_type": "markdown",
   "metadata": {},
   "source": [
    "## Generate Marked experience."
   ]
  },
  {
   "cell_type": "code",
   "execution_count": 3,
   "metadata": {},
   "outputs": [
    {
     "name": "stdout",
     "output_type": "stream",
     "text": [
      "137200\n",
      "3400\n",
      "100000\n"
     ]
    }
   ],
   "source": [
    "rand_exp = torch.load(\"rand_v_rand.pt\")\n",
    "agents_exp = torch.load(\"all_experiences.pt\")\n",
    "unmark_exp = rand_exp[:96600] + agents_exp\n",
    "print(len(rand_exp))\n",
    "print(len(agents_exp))\n",
    "print(len(unmark_exp))\n",
    "torch.save(unmark_exp, \"all_experiences_100000.pt\")"
   ]
  },
  {
   "cell_type": "code",
   "execution_count": 4,
   "metadata": {},
   "outputs": [],
   "source": [
    "# unmark_exp = torch.load(\"test_random_vs_random_2l.pt\")\n",
    "def player_1_win_condition(state_1_T_hp, state_1_B_hp, state_2_T_hp, state_2_B_hp):\n",
    "    if min(state_1_T_hp, state_1_B_hp) == min(state_2_T_hp, state_2_B_hp):\n",
    "        if state_1_T_hp + state_1_B_hp == state_2_T_hp + state_2_B_hp:\n",
    "            return 0\n",
    "        elif state_1_T_hp + state_1_B_hp > state_2_T_hp + state_2_B_hp:\n",
    "            return 1\n",
    "        else:\n",
    "            return -1\n",
    "    else:\n",
    "        if min(state_1_T_hp, state_1_B_hp) > min(state_2_T_hp, state_2_B_hp):\n",
    "            return 1\n",
    "        else:\n",
    "            return -1\n",
    "mark_exp = deepcopy(unmark_exp)"
   ]
  },
  {
   "cell_type": "code",
   "execution_count": 5,
   "metadata": {},
   "outputs": [],
   "source": [
    "insert_num = 0\n",
    "for i, exp in enumerate(unmark_exp):\n",
    "#     print(exp)\n",
    "    if i != 0 and exp[0][-1] == 2:\n",
    "        s1_hp_t, s1_hp_b, s2_hp_t, s2_hp_b = unmark_exp[i - 1][1][27:31]\n",
    "        \n",
    "        win_lose = player_1_win_condition(s1_hp_t, s1_hp_b, s2_hp_t, s2_hp_b)\n",
    "        mark_exp.insert(i + insert_num, win_lose)\n",
    "#         skip = True\n",
    "        insert_num += 1\n",
    "#         print(s1_hp_t, s1_hp_b, s2_hp_t, s2_hp_b)\n",
    "#         print(win_lose)\n"
   ]
  },
  {
   "cell_type": "code",
   "execution_count": 6,
   "metadata": {},
   "outputs": [],
   "source": [
    "# for i, exp in enumerate(mark_exp):\n",
    "#     print(exp)\n",
    "#     if type(exp) == type(int(1)):\n",
    "#         print(list(mark_exp[i - 1][1][27:31]))"
   ]
  },
  {
   "cell_type": "code",
   "execution_count": 7,
   "metadata": {},
   "outputs": [],
   "source": [
    "torch.save(mark_exp, \"all_experiences_100000_mark.pt\")"
   ]
  },
  {
   "cell_type": "code",
   "execution_count": null,
   "metadata": {},
   "outputs": [],
   "source": [
    "print(mark_exp)"
   ]
  },
  {
   "cell_type": "code",
   "execution_count": null,
   "metadata": {},
   "outputs": [],
   "source": []
  }
 ],
 "metadata": {
  "kernelspec": {
   "display_name": "Python 3",
   "language": "python",
   "name": "python3"
  },
  "language_info": {
   "codemirror_mode": {
    "name": "ipython",
    "version": 3
   },
   "file_extension": ".py",
   "mimetype": "text/x-python",
   "name": "python",
   "nbconvert_exporter": "python",
   "pygments_lexer": "ipython3",
   "version": "3.6.8"
  }
 },
 "nbformat": 4,
 "nbformat_minor": 2
}
