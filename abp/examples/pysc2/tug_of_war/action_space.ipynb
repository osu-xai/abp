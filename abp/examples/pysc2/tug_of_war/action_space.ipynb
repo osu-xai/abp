{
 "cells": [
  {
   "cell_type": "code",
   "execution_count": 2,
   "metadata": {},
   "outputs": [],
   "source": [
    "import torch\n",
    "import numpy as np\n",
    "from copy import copy, deepcopy\n",
    "from tqdm import tqdm"
   ]
  },
  {
   "cell_type": "markdown",
   "metadata": {},
   "source": [
    "## Tug of War 2 lanes No FIFO"
   ]
  },
  {
   "cell_type": "code",
   "execution_count": 3,
   "metadata": {},
   "outputs": [],
   "source": [
    "maker_cost = {\n",
    "    'Marine T' : 50,\n",
    "    'Baneling T' : 75,\n",
    "    'Immortal T' : 200,\n",
    "    'Marine B' : 50,\n",
    "    'Baneling B' : 75,\n",
    "    'Immortal B' : 200,\n",
    "}\n",
    "def get_big_A_spend_all(miner, \n",
    "              all_A_vectors = None, vector = None, move = 0):\n",
    "    if all_A_vectors is None:\n",
    "        all_A_vectors = list()\n",
    "    if vector is None:\n",
    "        vector = (0,0,0,0,0,0)\n",
    "    if miner == 0:\n",
    "        all_A_vectors.append(vector)\n",
    "        return list(all_A_vectors)\n",
    "    \n",
    "    next_vector = copy(vector)\n",
    "#     if miner < 50:\n",
    "#         all_A_vectors.append(vector)\n",
    "#         return list(all_A_vectors)\n",
    "        \n",
    "#     next_vector = copy(vector)\n",
    "#     get_big_A_spend_all(miner - miner, all_A_vectors, next_vector)\n",
    "    if miner >= maker_cost['Marine T']:\n",
    "        if move <= 0:\n",
    "            next_vector = (vector[0] + 1, vector[1],vector[2],\n",
    "                            vector[3], vector[4], vector[5])\n",
    "            get_big_A_spend_all(miner - maker_cost['Marine T'], all_A_vectors, next_vector, 0)\n",
    "        if move <= 1:\n",
    "            next_vector = (vector[0], vector[1],vector[2],\n",
    "                            vector[3] + 1, vector[4], vector[5])\n",
    "            get_big_A_spend_all(miner - maker_cost['Marine B'], all_A_vectors, next_vector, 1)\n",
    "            \n",
    "        if miner >= maker_cost['Baneling T']:\n",
    "            if move <= 2:\n",
    "                next_vector = (vector[0], vector[1] + 1,vector[2],\n",
    "                                vector[3], vector[4], vector[5])\n",
    "                get_big_A_spend_all(miner - maker_cost['Baneling T'], all_A_vectors, next_vector, 2)\n",
    "            if move <= 3:\n",
    "                next_vector = (vector[0], vector[1],vector[2],\n",
    "                                vector[3], vector[4] + 1, vector[5])\n",
    "                get_big_A_spend_all(miner - maker_cost['Baneling B'], all_A_vectors, next_vector, 3)\n",
    "                \n",
    "            if miner >= maker_cost['Immortal T']:\n",
    "                if move <= 4:\n",
    "                    next_vector = (vector[0], vector[1],vector[2] + 1,\n",
    "                                    vector[3], vector[4], vector[5])\n",
    "                    get_big_A_spend_all(miner - maker_cost['Immortal T'], all_A_vectors, next_vector, 4)\n",
    "                if move <= 5:\n",
    "                    next_vector = (vector[0], vector[1],vector[2],\n",
    "                                    vector[3], vector[4], vector[5] + 1)\n",
    "                    get_big_A_spend_all(miner - maker_cost['Immortal B'], all_A_vectors, next_vector, 5)\n",
    "\n",
    "    return list(all_A_vectors)"
   ]
  },
  {
   "cell_type": "code",
   "execution_count": 4,
   "metadata": {},
   "outputs": [
    {
     "name": "stderr",
     "output_type": "stream",
     "text": [
      " 95%|█████████▌| 58/61 [00:03<00:00,  8.03it/s]\n"
     ]
    }
   ],
   "source": [
    "# action_space = get_big_A_spend_all(225)\n",
    "# print(len(action_space))\n",
    "# for action in action_space:\n",
    "#     print(action)\n",
    "\n",
    "all_actions = []\n",
    "mineral = 0\n",
    "maker_cost_np = np.zeros(len(maker_cost))\n",
    "for i, mc in enumerate(maker_cost.values()):\n",
    "    maker_cost_np[i] = mc\n",
    "for i in tqdm(range(1500 // 25 + 1)):\n",
    "    all_actions.extend(get_big_A_spend_all(mineral))\n",
    "    mineral += 25\n",
    "    if mineral > 1500:\n",
    "        break\n"
   ]
  },
  {
   "cell_type": "code",
   "execution_count": 18,
   "metadata": {},
   "outputs": [
    {
     "name": "stdout",
     "output_type": "stream",
     "text": [
      "(91692, 6)\n",
      "(91692, 1)\n",
      "(91692, 7)\n",
      "[[0. 0. 0. ... 0. 0. 0.]\n",
      " [1. 0. 0. ... 0. 0. 0.]\n",
      " [0. 0. 0. ... 0. 0. 0.]\n",
      " ...\n",
      " [0. 0. 2. ... 4. 4. 0.]\n",
      " [0. 0. 1. ... 4. 5. 0.]\n",
      " [0. 0. 0. ... 4. 6. 0.]]\n"
     ]
    }
   ],
   "source": [
    "all_actions = np.array(all_actions)\n",
    "pylon_action = np.zeros((all_actions.shape[0], 1))\n",
    "print(all_actions.shape)\n",
    "print(pylon_action.shape)\n",
    "all_actions = np.hstack((all_actions, pylon_action))\n",
    "print(all_actions.shape)\n",
    "print(all_actions)\n",
    "# print(all_actions[all_actions[:,5] == 7])"
   ]
  },
  {
   "cell_type": "code",
   "execution_count": 21,
   "metadata": {},
   "outputs": [
    {
     "name": "stderr",
     "output_type": "stream",
     "text": [
      "91691it [00:00, 291313.34it/s]"
     ]
    },
    {
     "name": "stdout",
     "output_type": "stream",
     "text": [
      "{0: 1, 25: 1, 50: 3, 75: 5, 100: 8, 125: 12, 150: 19, 175: 25, 200: 38, 225: 50, 250: 69, 275: 91, 300: 121, 325: 153, 350: 200, 375: 248, 400: 315, 425: 387, 450: 481, 475: 583, 500: 714, 525: 854, 550: 1031, 575: 1221, 600: 1457, 625: 1709, 650: 2018, 675: 2350, 700: 2747, 725: 3175, 750: 3683, 775: 4225, 800: 4867, 825: 5551, 850: 6348, 875: 7204, 900: 8189, 925: 9241, 950: 10451, 975: 11737, 1000: 13205, 1025: 14769, 1050: 16538, 1075: 18422, 1100: 20543, 1125: 22795, 1150: 25319, 1175: 27997, 1200: 30984, 1225: 34148, 1250: 37663, 1275: 41385, 1300: 45497, 1325: 49849, 1350: 54642, 1375: 59702, 1400: 65263, 1425: 71127, 1450: 77543, 1475: 84313, 1500: 91692}\n"
     ]
    },
    {
     "name": "stderr",
     "output_type": "stream",
     "text": [
      "\n"
     ]
    }
   ],
   "source": [
    "key_mineral = 50\n",
    "action_dict = {0: 1, 25: 1}\n",
    "for i, a in tqdm(enumerate(np.array(all_actions[1:]))):\n",
    "#     if key_mineral < 500:\n",
    "#         print(np.sum(maker_cost_np * a))\n",
    "    if np.sum(maker_cost_np * a[:-1]) != key_mineral:\n",
    "        action_dict[key_mineral] = i + 1\n",
    "        key_mineral += 25\n",
    "action_dict[key_mineral] = i + 2\n",
    "print(action_dict)\n",
    "action_1500_dict = {}\n",
    "all_actions_torch = torch.Tensor(all_actions)\n",
    "action_1500_dict['actions'] = all_actions_torch\n",
    "action_1500_dict['mineral'] = action_dict\n",
    "\n",
    "torch.save(action_1500_dict, 'action_1500_dict_2L.pt')"
   ]
  },
  {
   "cell_type": "code",
   "execution_count": 34,
   "metadata": {},
   "outputs": [
    {
     "name": "stdout",
     "output_type": "stream",
     "text": [
      "(0, 7)\n"
     ]
    }
   ],
   "source": [
    "a = np.array([])\n",
    "a = np.repeat(a.reshape(-1, 7), 0, axis = 0).reshape(-1, 7)\n",
    "print(a.shape)"
   ]
  },
  {
   "cell_type": "code",
   "execution_count": 3,
   "metadata": {},
   "outputs": [
    {
     "name": "stdout",
     "output_type": "stream",
     "text": [
      "100% \t 200% \t 300% \t\n"
     ]
    }
   ],
   "source": [
    "        print(str(1 * 100) + \"% \\t\",\n",
    "             str(2 * 100) + \"% \\t\",\n",
    "             str(3 * 100) + \"% \\t\")"
   ]
  },
  {
   "cell_type": "code",
   "execution_count": null,
   "metadata": {},
   "outputs": [],
   "source": []
  }
 ],
 "metadata": {
  "kernelspec": {
   "display_name": "Python 3",
   "language": "python",
   "name": "python3"
  },
  "language_info": {
   "codemirror_mode": {
    "name": "ipython",
    "version": 3
   },
   "file_extension": ".py",
   "mimetype": "text/x-python",
   "name": "python",
   "nbconvert_exporter": "python",
   "pygments_lexer": "ipython3",
   "version": "3.6.8"
  }
 },
 "nbformat": 4,
 "nbformat_minor": 2
}
