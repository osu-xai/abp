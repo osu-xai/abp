{
 "cells": [
  {
   "cell_type": "code",
   "execution_count": null,
   "metadata": {},
   "outputs": [],
   "source": [
    "import numpy as np\n",
    "import torch\n",
    "import torch.nn as nn\n",
    "from torch.optim import Adam\n",
    "from tensorboardX import SummaryWriter\n",
    "import tqdm\n",
    "\n",
    "use_cuda = torch.cuda.is_available()\n",
    "FloatTensor = torch.cuda.FloatTensor if use_cuda else torch.FloatTensor\n",
    "LongTensor = torch.cuda.LongTensor if use_cuda else torch.LongTensor\n",
    "IntTensor = torch.cuda.IntTensor if use_cuda else torch.IntTensor\n",
    "ByteTensor = torch.cuda.ByteTensor if use_cuda else torch.ByteTensor\n",
    "Tensor = FloatTensor"
   ]
  },
  {
   "cell_type": "code",
   "execution_count": null,
   "metadata": {},
   "outputs": [],
   "source": [
    "data = torch.load('random_v_random.pt')\n",
    "np.set_printoptions(suppress=True)\n",
    "\n",
    "l = len(data)\n",
    "\n",
    "for i in range(0, len(data)):\n",
    "    data[i][0] = [data[i][0][4] / 2000 , data[i][0][9] / 2000 ]\n",
    "    data[i][1] = [data[i][1][4] / 2000 , data[i][1][9] / 2000 ]\n",
    "\n",
    "data = np.array(data)\n",
    "print(data[0][0], data[0][1])\n",
    "\n",
    "summary_test = SummaryWriter(log_dir = 'nexus-test-report/')"
   ]
  },
  {
   "cell_type": "code",
   "execution_count": null,
   "metadata": {},
   "outputs": [],
   "source": [
    "state_action = torch.from_numpy(np.stack(data[:, 0])).type(FloatTensor)\n",
    "next_state_reward = torch.from_numpy(np.stack(data[:, 1])).type(FloatTensor)\n",
    "criterion = nn.MSELoss(reduction='mean')\n",
    "print(state_action)\n",
    "print(next_state_reward)\n",
    "\n",
    "\n",
    "for i in tqdm.tqdm(range(l)):\n",
    "    s = np.arange(state_action.shape[0])\n",
    "    np.random.shuffle(s)\n",
    "    train_x = state_action[s]\n",
    "    train_y = next_state_reward[s]\n",
    "\n",
    "    mse = criterion(train_x[i], train_y[i])\n",
    "    f = open(\"nexus-test-report/test_loss.txt\", \"a+\")\n",
    "    f.write(\"loss:\" + str(mse.item()) + \"\\n\")\n",
    "    f.close()\n",
    "    summary_test.add_scalar(\"MSE\", float(mse.item()), i)\n"
   ]
  }
 ],
 "metadata": {
  "kernelspec": {
   "display_name": "Python 3",
   "language": "python",
   "name": "python3"
  },
  "language_info": {
   "codemirror_mode": {
    "name": "ipython",
    "version": 3
   },
   "file_extension": ".py",
   "mimetype": "text/x-python",
   "name": "python",
   "nbconvert_exporter": "python",
   "pygments_lexer": "ipython3",
   "version": "3.6.7"
  }
 },
 "nbformat": 4,
 "nbformat_minor": 2
}
