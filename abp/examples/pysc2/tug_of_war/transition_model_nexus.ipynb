{
 "cells": [
  {
   "cell_type": "code",
   "execution_count": 4,
   "metadata": {},
   "outputs": [],
   "source": [
    "import numpy as np\n",
    "import torch\n",
    "import torch.nn as nn\n",
    "from torch.optim import Adam\n",
    "from tensorboardX import SummaryWriter\n",
    "import tqdm\n",
    "\n",
    "use_cuda = torch.cuda.is_available()\n",
    "FloatTensor = torch.cuda.FloatTensor if use_cuda else torch.FloatTensor\n",
    "LongTensor = torch.cuda.LongTensor if use_cuda else torch.LongTensor\n",
    "IntTensor = torch.cuda.IntTensor if use_cuda else torch.IntTensor\n",
    "ByteTensor = torch.cuda.ByteTensor if use_cuda else torch.ByteTensor\n",
    "Tensor = FloatTensor\n",
    "\n",
    "def weights_initialize(module):\n",
    "    if type(module) == nn.Linear:\n",
    "        nn.init.xavier_uniform_(module.weight, gain=nn.init.calculate_gain('relu'))\n",
    "        module.bias.data.fill_(0.01)\n",
    "        \n",
    "class _TransModel(nn.Module):\n",
    "    \"\"\" Model for DQN \"\"\"\n",
    "\n",
    "    def __init__(self, input_len, output_len):\n",
    "        super(_TransModel, self).__init__()\n",
    "        \n",
    "        self.fc1 = nn.Sequential(\n",
    "            torch.nn.Linear(input_len, 512),\n",
    "            torch.nn.BatchNorm1d(512),\n",
    "            nn.ReLU()\n",
    "        )\n",
    "        self.fc1.apply(weights_initialize)\n",
    "        \n",
    "        self.fc2 = nn.Sequential(\n",
    "            torch.nn.Linear(512, 128),\n",
    "            torch.nn.BatchNorm1d(128),\n",
    "            nn.ReLU()\n",
    "        )\n",
    "        self.fc2.apply(weights_initialize)\n",
    "        \n",
    "        self.output_layer = nn.Sequential(\n",
    "            torch.nn.Linear(128, output_len)\n",
    "        )\n",
    "        self.output_layer.apply(weights_initialize)\n",
    "        \n",
    "    def forward(self, input):\n",
    "        x = self.fc1(input)\n",
    "        x = self.fc2(x)\n",
    "        \n",
    "        return self.output_layer(x)\n",
    "\n",
    "    \n",
    "class TransModel():\n",
    "    def __init__(self, input_len, ouput_len, learning_rate = 0.0001):\n",
    "        self.model = _TransModel(input_len, ouput_len)\n",
    "        \n",
    "        if use_cuda:\n",
    "            print(\"Using GPU\")\n",
    "            self.model = self.model.cuda()\n",
    "        else:\n",
    "            print(\"Using CPU\")\n",
    "        self.steps = 0\n",
    "        self.model = nn.DataParallel(self.model)\n",
    "        self.optimizer = Adam(self.model.parameters(), lr = learning_rate)\n",
    "        self.loss_fn = nn.MSELoss(reduction='mean')\n",
    "        \n",
    "        self.summary = SummaryWriter(log_dir = 'trans_summary/')\n",
    "        self.steps = 0\n",
    "        \n",
    "    def predict(self, input, steps, learning):\n",
    "        output = self.model(input).squeeze(1)\n",
    "        #reward, next_state = output[0], output[1:]\n",
    "\n",
    "        return output\n",
    "\n",
    "    def predict_batch(self, input):\n",
    "        output = self.model(input)\n",
    "        #reward, next_state = output[:, 0], output[:, 1:]\n",
    "        return output\n",
    "\n",
    "    def fit(self, state, target_state):\n",
    "        loss = self.loss_fn(state, target_state)\n",
    "\n",
    "        self.optimizer.zero_grad()\n",
    "        loss.backward()\n",
    "        self.optimizer.step()\n",
    "        self.steps += 1\n",
    "        self.summary.add_scalar(tag=\"loss/train_Loss\",\n",
    "                                scalar_value=float(loss),\n",
    "                                global_step=self.steps)\n",
    "        "
   ]
  },
  {
   "cell_type": "code",
   "execution_count": 5,
   "metadata": {},
   "outputs": [
    {
     "name": "stdout",
     "output_type": "stream",
     "text": [
      "[   0.    1.    0.    1. 2000.    3.    0.    0.    0. 2000.    0.    0.\n",
      "    0.    0.    0.    0.    0.] [2000.0, 2000.0]\n",
      "(6744, 2) (6745, 2)\n"
     ]
    }
   ],
   "source": [
    "data = torch.load('random_v_random.pt')\n",
    "np.set_printoptions(suppress=True)\n",
    "\n",
    "l = len(data)\n",
    "\n",
    "for i in range(0, len(data)):\n",
    "    data[i][1] = [data[i][1][4], data[i][1][9]]\n",
    "\n",
    "print(data[0][0], data[0][1])\n",
    "\n",
    "np.random.shuffle(data)\n",
    "\n",
    "train_data = np.array(data[: int(np.floor(l * 0.5))])\n",
    "test_data = np.array(data[int(np.floor(l * 0.5)) : ])\n",
    "print(train_data.shape, test_data.shape)\n",
    "\n",
    "batch_size = 64\n",
    "summary_test = SummaryWriter(log_dir = 'test_summary/')"
   ]
  },
  {
   "cell_type": "code",
   "execution_count": 6,
   "metadata": {},
   "outputs": [
    {
     "name": "stdout",
     "output_type": "stream",
     "text": [
      "Using CPU\n"
     ]
    }
   ],
   "source": [
    "trans_model = TransModel(len(data[0][0]), len(data[0][1]))"
   ]
  },
  {
   "cell_type": "code",
   "execution_count": 7,
   "metadata": {},
   "outputs": [],
   "source": [
    "def evaluation(model, data, epoch):\n",
    "    state_action = torch.from_numpy(np.stack(data[:, 0])).type(FloatTensor)\n",
    "    next_state_reward = torch.from_numpy(np.stack(data[:, 1])).type(FloatTensor)\n",
    "    \n",
    "    total = 0\n",
    "    total_loss = 0\n",
    "    model.model.eval()\n",
    "    criterion = nn.MSELoss(reduction='mean')\n",
    "    outputs = model.predict_batch(state_action)\n",
    "    loss = criterion(outputs, next_state_reward)\n",
    "    #print(outputs[:, 0 : 4].size())\n",
    "    \n",
    "    \n",
    "    \n",
    "    accuracy = torch.sum(torch.round(outputs[:, 0]) == torch.round(next_state_reward[:, 0]))\n",
    "    accuracy += torch.sum(torch.round(outputs[:, 1]) == torch.round(next_state_reward[:, 1]))\n",
    "    accuracy = accuracy.item() / (8 * outputs.size()[0])\n",
    "    model.model.train()\n",
    "    summary_test.add_scalar(tag=\"loss/test_Loss\",\n",
    "                            scalar_value=float(loss.item()),\n",
    "                            global_step=epoch)\n",
    "    summary_test.add_scalar(tag=\"acc/accuracy\",\n",
    "                            scalar_value=float(accuracy),\n",
    "                            global_step=epoch)\n",
    "    f = open(\"test_loss.txt\", \"a+\")\n",
    "    f.write(\"loss:\" + str(loss.item()) + \", \")\n",
    "    f.write(\"acc:\" + str(accuracy) + \"\\n\")\n",
    "    if epoch % 1000 == 0:\n",
    "        f.write(\"output:\" + str(outputs[0:2]) + \"\\n\")\n",
    "        f.write(\"ground true:\" + str(next_state_reward[0:2]) + \"\\n\")\n",
    "    f.close()\n",
    "    return loss.item()"
   ]
  },
  {
   "cell_type": "code",
   "execution_count": 9,
   "metadata": {},
   "outputs": [
    {
     "name": "stderr",
     "output_type": "stream",
     "text": [
      "\n",
      "  0%|          | 0/10 [00:00<?, ?it/s]\u001b[A"
     ]
    },
    {
     "name": "stdout",
     "output_type": "stream",
     "text": [
      "torch.Size([6744, 17]) torch.Size([6744, 2])\n"
     ]
    },
    {
     "name": "stderr",
     "output_type": "stream",
     "text": [
      "\n",
      " 10%|█         | 1/10 [00:00<00:07,  1.13it/s]\u001b[A\n",
      " 20%|██        | 2/10 [00:01<00:06,  1.16it/s]\u001b[A\n",
      " 30%|███       | 3/10 [00:02<00:05,  1.19it/s]\u001b[A\n",
      " 40%|████      | 4/10 [00:03<00:04,  1.25it/s]\u001b[A\n",
      " 50%|█████     | 5/10 [00:03<00:03,  1.26it/s]\u001b[A\n",
      " 60%|██████    | 6/10 [00:04<00:03,  1.27it/s]\u001b[A\n",
      " 70%|███████   | 7/10 [00:05<00:02,  1.23it/s]\u001b[A\n",
      " 80%|████████  | 8/10 [00:06<00:01,  1.24it/s]\u001b[A\n",
      " 90%|█████████ | 9/10 [00:07<00:00,  1.25it/s]\u001b[A\n",
      "100%|██████████| 10/10 [00:07<00:00,  1.27it/s]\u001b[A"
     ]
    }
   ],
   "source": [
    "state_action = torch.from_numpy(np.stack(train_data[:, 0])).type(FloatTensor)\n",
    "next_state_reward = torch.from_numpy(np.stack(train_data[:, 1])).type(FloatTensor)\n",
    "print(state_action.size(), next_state_reward.size())\n",
    "\n",
    "for epoch in tqdm.tqdm(range(10000)):\n",
    "    s = np.arange(state_action.shape[0])\n",
    "    np.random.shuffle(s)\n",
    "    train_x = state_action[s]\n",
    "    train_y = next_state_reward[s]\n",
    "    for i in range(state_action.shape[0] // batch_size + 1):\n",
    "        if (i + 1) * batch_size <= state_action.shape[0]:\n",
    "            start = i * batch_size\n",
    "            end = (i + 1) * batch_size\n",
    "        else:\n",
    "            start = i * batch_size\n",
    "            end = state_action.shape[0]\n",
    "        #print(start, end)\n",
    "        inputs, ground_true = train_x[start : end, :], train_y[start : end, :]\n",
    "        outputs = trans_model.predict_batch(inputs)\n",
    "        trans_model.fit(outputs, ground_true)\n",
    "#     print(epoch)\n",
    "    evaluation(trans_model, test_data, epoch)\n",
    "    #break"
   ]
  },
  {
   "cell_type": "code",
   "execution_count": null,
   "metadata": {},
   "outputs": [],
   "source": []
  },
  {
   "cell_type": "code",
   "execution_count": null,
   "metadata": {},
   "outputs": [],
   "source": []
  },
  {
   "cell_type": "code",
   "execution_count": null,
   "metadata": {},
   "outputs": [],
   "source": []
  }
 ],
 "metadata": {
  "kernelspec": {
   "display_name": "Python [conda env:sc2_env] *",
   "language": "python",
   "name": "conda-env-sc2_env-py"
  },
  "language_info": {
   "codemirror_mode": {
    "name": "ipython",
    "version": 3
   },
   "file_extension": ".py",
   "mimetype": "text/x-python",
   "name": "python",
   "nbconvert_exporter": "python",
   "pygments_lexer": "ipython3",
   "version": "3.6.7"
  }
 },
 "nbformat": 4,
 "nbformat_minor": 2
}
