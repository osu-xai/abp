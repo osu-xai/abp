{
 "cells": [
  {
   "cell_type": "code",
   "execution_count": null,
   "metadata": {},
   "outputs": [],
   "source": [
    "import matplotlib.pyplot as plt\n",
    "%matplotlib inline\n",
    "import os"
   ]
  },
  {
   "cell_type": "markdown",
   "metadata": {},
   "source": [
    "## Self Play Plot"
   ]
  },
  {
   "cell_type": "code",
   "execution_count": null,
   "metadata": {},
   "outputs": [],
   "source": [
    "def plot(x, y, fig, style = '-', legend = None, title = \"performance\", y_label = \"total rewards\"):\n",
    "    \n",
    "    plt.plot(x, y, style)\n",
    "    plt.title(title)\n",
    "    if legend is not None:\n",
    "        plt.legend(legend)\n",
    "    plt.xlabel(\"episodes\")\n",
    "    plt.ylabel(y_label)\n",
    "    return plt\n",
    "#     plt.show()\n",
    "    \n",
    "def readResult(filename, train_episode = 40):\n",
    "    x_reward = []\n",
    "    y_reward = []\n",
    "    x_update = []\n",
    "    y_update = []\n",
    "    x_seperate = []\n",
    "    y_seperate = []\n",
    "    seperate_i = 0\n",
    "    seperate_j = 0\n",
    "    \n",
    "    x_seperate.append([])\n",
    "    y_seperate.append([])\n",
    "    f = open(filename, 'r')\n",
    "    lines = f.readlines()\n",
    "    for i,l in enumerate(lines):\n",
    "        if l == \"Update agent\\n\":\n",
    "            seperate_i += 1\n",
    "            seperate_j += 1\n",
    "            x_seperate.append([])\n",
    "            y_seperate.append([])\n",
    "            y_update.append(y_reward[-1])\n",
    "            x_update.append(x_reward[-1])\n",
    "        else:\n",
    "            y_reward.append(float(l[0:-1]))\n",
    "            x_reward.append((i + 1) * train_episode)\n",
    "            \n",
    "            y_seperate[seperate_j].append(float(l[0:-1]))\n",
    "            x_seperate[seperate_i].append(((i + 1) * train_episode))\n",
    "    return x_reward, y_reward,x_update, y_update, x_seperate, y_seperate\n",
    "\n",
    "def mean(y):\n",
    "    meany = []\n",
    "    sum = 0\n",
    "    for i, v in enumerate(y):\n",
    "        sum += v\n",
    "        meany.append(sum / (i + 1))\n",
    "    return meany"
   ]
  },
  {
   "cell_type": "code",
   "execution_count": null,
   "metadata": {},
   "outputs": [],
   "source": [
    "fig_num = 1\n",
    "fig = plt.figure(num = fig_num)\n",
    "x_reward, y_reward,x_update, y_update, x_seperate, y_seperate = readResult(\"../../result_gqf_v10_sepcific_2.txt\")\n",
    "# my = mean(y)\n",
    "for i in range(len(x_seperate)):\n",
    "    plot(x_seperate[i], y_seperate[i], fig)\n",
    "plot(x_update, y_update, fig, style = 'ro')\n",
    "\n",
    "# x_reward, y_reward,x_update, y_update, x_seperate, y_seperate = readResult(\"result_gqf_v6.txt\")\n",
    "# # my = mean(y)\n",
    "# for i in range(len(x_seperate)):\n",
    "#     plot(x_seperate[i], y_seperate[i], fig)\n",
    "\n",
    "# x_reward, y_reward,x_update, y_update, x_seperate, y_seperate = readResult(\"result_gqf_v6(non-norm).txt\")\n",
    "# # my = mean(y)\n",
    "# for i in range(len(x_seperate)):\n",
    "#     plot(x_seperate[i], y_seperate[i], fig,legend = [\"8f+damageToNexus(norm)\", \"8f+damageToNexus\"])\n",
    "# fig.show()\n",
    "# plot(x,my, [\"withOnehotAndNormalize\",\"mean\"], fig = 3)\n",
    "for i in range(len(x_seperate)):\n",
    "    fig_num += 1\n",
    "    fig = plt.figure(num = fig_num)\n",
    "    plot(x_seperate[i], y_seperate[i], fig)"
   ]
  },
  {
   "cell_type": "markdown",
   "metadata": {},
   "source": [
    "## Model based vs model-free"
   ]
  },
  {
   "cell_type": "code",
   "execution_count": null,
   "metadata": {},
   "outputs": [],
   "source": [
    "def read_data(filename, agent_self):\n",
    "    f = open(filename, 'r')\n",
    "    lines = f.readlines()\n",
    "    names = []\n",
    "    values = []\n",
    "    for i, l in enumerate(lines):\n",
    "        if i % 3 == 0:\n",
    "            print(l)\n",
    "            if l == agent_self:\n",
    "                names.append(\"agent_self\")\n",
    "            else:\n",
    "                names.append(\"enemy_\" + str(int(i / 3 + 1)))\n",
    "        elif i % 3 == 1:\n",
    "            values.append(float(l))\n",
    "#     print(names)\n",
    "#     print(values)\n",
    "    return names, values\n",
    "def plot(all_value, all_names, legends):\n",
    "    fig=plt.figure(figsize=(15, 15), dpi= 160, facecolor='w', edgecolor='k')\n",
    "    for i in range(len(legends)):\n",
    "        plt.plot(all_value[i], all_names[i], 'o')\n",
    "        \n",
    "    plt.title('Model base agent vs model free agents')\n",
    "    plt.legend(legends)\n",
    "    plt.xlabel(\"agents name\")\n",
    "    plt.ylabel(\"rewards\")\n",
    "\n",
    "    return plt\n",
    "    \n",
    "data_file = [\"../../result_model_based_grid_v10.txt\", \"../../result_model_based_grid_v6.txt\", \"../../result_model_based_grid_v11.txt\"]\n",
    "legends = [\"ak = 80, depth = 1\", \"ak = [7, 7], depth = 2\", \"ak = [10, 5] depth = 2\"]#, \"model free agent\"]\n",
    "all_values = []\n",
    "all_names = []\n",
    "# skips = [1, 2]\n",
    "for i, df in enumerate(data_file):\n",
    "#     if i in skips:\n",
    "#         continue\n",
    "    values, names = read_data(df, \"self_model_free\\n\")\n",
    "    all_values.append(values)\n",
    "    all_names.append(names)\n",
    "    \n",
    "p = plot(all_values, all_names, legends)\n",
    "p.show()\n",
    "        "
   ]
  },
  {
   "cell_type": "markdown",
   "metadata": {},
   "source": [
    "### The GVFs loss and learning curve"
   ]
  },
  {
   "cell_type": "code",
   "execution_count": 4,
   "metadata": {},
   "outputs": [
    {
     "data": {
      "text/plain": [
       "<module 'matplotlib.pyplot' from '/home/xian/.conda/envs/general/lib/python3.6/site-packages/matplotlib/pyplot.py'>"
      ]
     },
     "execution_count": 4,
     "metadata": {},
     "output_type": "execute_result"
    },
    {
     "data": {
      "image/png": "[encoded data removed]",
      "text/plain": [
       "<Figure size 432x288 with 1 Axes>"
      ]
     },
     "metadata": {
      "needs_background": "light"
     },
     "output_type": "display_data"
    },
    {
     "data": {
      "image/png": "[encoded data removed]",
      "text/plain": [
       "<Figure size 432x288 with 1 Axes>"
      ]
     },
     "metadata": {
      "needs_background": "light"
     },
     "output_type": "display_data"
    }
   ],
   "source": [
    "fig_num = 1\n",
    "fig = plt.figure(num = fig_num)\n",
    "x_reward, y_reward,x_update, y_update, x_seperate, y_seperate = readResult(\"../../result_gqf_v10_sepcific_2_GVFs_loss.txt\")\n",
    "# my = mean(y)\n",
    "for i in range(len(x_seperate)):\n",
    "    plot(x_seperate[i], y_seperate[i], fig)\n",
    "plot(x_update, y_update, fig, style = 'ro', title = \"GVFs loss\", y_label = \"loss\")\n",
    "\n",
    "fig_num = 2\n",
    "fig = plt.figure(num = fig_num)\n",
    "x_reward, y_reward,x_update, y_update, x_seperate, y_seperate = readResult(\"../../result_gqf_v10_sepcific_2.txt\")\n",
    "for i in range(len(x_seperate)):\n",
    "    plot(x_seperate[i], y_seperate[i], fig)\n",
    "plot(x_update, y_update, fig, style = 'ro')"
   ]
  },
  {
   "cell_type": "markdown",
   "metadata": {},
   "source": [
    "### The GVFs loss by steps"
   ]
  },
  {
   "cell_type": "code",
   "execution_count": null,
   "metadata": {},
   "outputs": [],
   "source": [
    "import matplotlib.pyplot as plt\n",
    "import numpy as np\n",
    "\n",
    "def plot_loss_step(data, title = \"GVFs loss\", vmin=0, vmax=0.1):\n",
    "    plt.title(title)\n",
    "    plt.matshow(data, vmin=vmin, vmax=vmax)\n",
    "\n",
    "    plt.show()\n",
    "    \n",
    "test_data = np.array([[0.0268, 0.0264, 0.0237, 0.0185, 0.0147, 0.0000, 0.0000, 0.0000, 0.0000,\n",
    "        0.0000, 0.0000, 0.0000, 0.0000, 0.0000, 0.0000, 0.0000, 0.0000, 0.0000,\n",
    "        0.0000, 0.0000, 0.0000, 0.0000, 0.0000, 0.0000, 0.0000, 0.0000, 0.0000,\n",
    "        0.0000, 0.0000, 0.0000, 0.0000, 0.0000, 0.0000, 0.0000, 0.0000, 0.0000,\n",
    "        0.0000, 0.0000, 0.0000, 0.0000],\n",
    "                     [0.0266, 0.0264, 0.0220, 0.0147, 0.0000, 0.0000, 0.0000, 0.0000, 0.0000,\n",
    "        0.0000, 0.0000, 0.0000, 0.0000, 0.0000, 0.0000, 0.0000, 0.0000, 0.0000,\n",
    "        0.0000, 0.0000, 0.0000, 0.0000, 0.0000, 0.0000, 0.0000, 0.0000, 0.0000,\n",
    "        0.0000, 0.0000, 0.0000, 0.0000, 0.0000, 0.0000, 0.0000, 0.0000, 0.0000,\n",
    "        0.0000, 0.0000, 0.0000, 0.0000],\n",
    "                     [0.0404, 0.0412, 0.0432, 0.0424, 0.0431, 0.0436, 0.0439, 0.0385, 0.0396,\n",
    "        0.0402, 0.0399, 0.0399, 0.0402, 0.0404, 0.0403, 0.0405, 0.0397, 0.0390,\n",
    "        0.0389, 0.0388, 0.0381, 0.0377, 0.0363, 0.0356, 0.0339, 0.0283, 0.0274,\n",
    "        0.0152, 0.0000, 0.0000, 0.0000, 0.0000, 0.0000, 0.0000, 0.0000, 0.0000,\n",
    "        0.0000, 0.0000, 0.0000, 0.0000],\n",
    "                     [0.0296, 0.0303, 0.0308, 0.0314, 0.0321, 0.0322, 0.0321, 0.0323, 0.0324,\n",
    "        0.0326, 0.0327, 0.0329, 0.0332, 0.0334, 0.0334, 0.0334, 0.0331, 0.0332,\n",
    "        0.0331, 0.0328, 0.0329, 0.0327, 0.0324, 0.0323, 0.0322, 0.0321, 0.0320,\n",
    "        0.0319, 0.0318, 0.0315, 0.0313, 0.0310, 0.0305, 0.0299, 0.0291, 0.0294,\n",
    "        0.0185, 0.0153, 0.0000, 0.0000],\n",
    "#                      [0.1578, 0.1597, 0.1616, 0.1633, 0.1625, 0.1578, 0.1590, 0.1606, 0.1625,\n",
    "#         0.1630, 0.1627, 0.1620, 0.1629, 0.1634, 0.1612, 0.1613, 0.1605, 0.1615,\n",
    "#         0.1629, 0.1634, 0.1629, 0.1635, 0.1624, 0.1640, 0.1608, 0.1639, 0.1566,\n",
    "#         0.1539, 0.1451, 0.1427, 0.1262, 0.0982, 0.0939, 0.0723, 0.0929, 0.0751,\n",
    "#         0.0867, 0.0934, 0.1038, 0.1036],\n",
    "                     [0.0236, 0.0245, 0.0257, 0.0244, 0.0258, 0.0249, 0.0252, 0.0266, 0.0264,\n",
    "        0.0259, 0.0259, 0.0149, 0.0147, 0.0000, 0.0000, 0.0000, 0.0000, 0.0000,\n",
    "        0.0000, 0.0000, 0.0000, 0.0000, 0.0000, 0.0000, 0.0000, 0.0000, 0.0000,\n",
    "        0.0000, 0.0000, 0.0000, 0.0000, 0.0000, 0.0000, 0.0000, 0.0000, 0.0000,\n",
    "        0.0000, 0.0000, 0.0000, 0.0000],])\n",
    "plot_loss_step(test_data, vmin=test_data.min(), vmax=test_data.max())\n",
    "# for td in test_data:\n",
    "#     print()\n",
    "#     plot_loss_step([td], vmin=td.min(), vmax=td.max())"
   ]
  },
  {
   "cell_type": "code",
   "execution_count": 58,
   "metadata": {},
   "outputs": [
    {
     "name": "stdout",
     "output_type": "stream",
     "text": [
      "[250.0, 0.0, 2.0, 0.0, 1.0, 3.0, 0.0, 1.0, 3.0, 1.0, 0.0, 8.0, 0.0, 0.0, 0.0, 0.0, 0.0, 0.0, 0.0, 0.0, 0.0, 0.0, 0.0, 0.0, 0.0, 0.0, 0.0, 0.0, 0.0, 0.0, 0.0, 0.0, 0.0, 0.0, 0.0, 0.0, 0.0, 0.0, 0.0, 0.0, 0.0, 0.0, 3.0, 0.0, 0.0, 0.0, 0.0, 0.0, 0.0, 0.0, 0.0, 0.0, 0.0, 0.0, 8.0, 0.0, 0.0, 0.0, 0.0, 0.0, 0.0, 0.0, 0.0, 2000.0, 1980.0, 2000.0, 2000.0, 7.0]\n"
     ]
    }
   ],
   "source": [
    "ps = open(\"../../explanations/tug_of_war/state_pair_test_example/action_exp.txt\", \"r\").readlines()\n",
    "import numpy as np\n",
    "def pretty_print_to_state(pretty_state):\n",
    "    state = np.zeros(68)\n",
    "    count = 0\n",
    "    self_units = []\n",
    "    enemy_units = []\n",
    "    for i, ps in enumerate(pretty_state):\n",
    "        ps = ps.replace(\".0\", \" \")\n",
    "        ps = ps.replace(\",\", \" \")\n",
    "        ps = ps.replace(\":\", \" \")\n",
    "        \n",
    "#         print(ps)\n",
    "        numbers = [float(word) for word in ps.split() if word.isdigit()]\n",
    "#         print(numbers)\n",
    "        if len(numbers) == 0:\n",
    "            continue\n",
    "        numbers_np = np.array(numbers)\n",
    "        if count == 0:\n",
    "            state[-1], state[0] = numbers_np[0], numbers_np[1]\n",
    "        if count == 1:\n",
    "            state[1:8] = numbers_np\n",
    "        if count == 2:\n",
    "            state[8:15] = numbers_np\n",
    "        if count in list(range(3, 11)):\n",
    "            self_units.extend(numbers)\n",
    "        if count == 10:\n",
    "            state[15:39] = self_units\n",
    "        if count in list(range(11, 19)):\n",
    "            enemy_units.extend(numbers)\n",
    "        if count == 18:\n",
    "            state[39:63] = enemy_units\n",
    "        if count == 19:\n",
    "            state[63: 67] = numbers_np\n",
    "        count += 1\n",
    "    print(state.tolist())\n",
    "pretty_print_to_state(ps)"
   ]
  },
  {
   "cell_type": "code",
   "execution_count": null,
   "metadata": {},
   "outputs": [],
   "source": []
  }
 ],
 "metadata": {
  "kernelspec": {
   "display_name": "Python 3",
   "language": "python",
   "name": "python3"
  },
  "language_info": {
   "codemirror_mode": {
    "name": "ipython",
    "version": 3
   },
   "file_extension": ".py",
   "mimetype": "text/x-python",
   "name": "python",
   "nbconvert_exporter": "python",
   "pygments_lexer": "ipython3",
   "version": "3.6.8"
  }
 },
 "nbformat": 4,
 "nbformat_minor": 4
}
